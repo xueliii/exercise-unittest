{
  "nbformat": 4,
  "nbformat_minor": 0,
  "metadata": {
    "colab": {
      "name": "Unit-test exercise.ipynb",
      "provenance": [],
      "authorship_tag": "ABX9TyOkXRNTEuQ4ZERAmg0RyDkJ",
      "include_colab_link": true
    },
    "kernelspec": {
      "name": "python3",
      "display_name": "Python 3"
    },
    "language_info": {
      "name": "python"
    }
  },
  "cells": [
    {
      "cell_type": "markdown",
      "metadata": {
        "id": "view-in-github",
        "colab_type": "text"
      },
      "source": [
        "<a href=\"https://colab.research.google.com/github/xueliii/exercise-unittest/blob/main/Unit_test_exercise.ipynb\" target=\"_parent\"><img src=\"https://colab.research.google.com/assets/colab-badge.svg\" alt=\"Open In Colab\"/></a>"
      ]
    },
    {
      "cell_type": "code",
      "metadata": {
        "id": "Th88g4-m_X1D"
      },
      "source": [
        "print(\"hi\")"
      ],
      "execution_count": null,
      "outputs": []
    }
  ]
}